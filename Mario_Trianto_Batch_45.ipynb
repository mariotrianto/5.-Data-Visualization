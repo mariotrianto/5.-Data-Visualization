{
 "cells": [
  {
   "cell_type": "markdown",
   "metadata": {
    "heading_collapsed": true,
    "id": "sFebiD9IMF4m"
   },
   "source": [
    "# Homework Data Visualization"
   ]
  },
  {
   "cell_type": "markdown",
   "metadata": {
    "hidden": true,
    "id": "p4R-HqFIMF4q"
   },
   "source": [
    "$\\textbf{Ubah nama di bawah yaa!}$"
   ]
  },
  {
   "cell_type": "markdown",
   "metadata": {
    "hidden": true,
    "id": "o0sEkWetMF4r"
   },
   "source": [
    "- Nama: Mario Trianto\n",
    "- Cita-cita semasa kecil: Pembalap"
   ]
  },
  {
   "cell_type": "code",
   "execution_count": 39,
   "metadata": {
    "ExecuteTime": {
     "end_time": "2020-11-12T13:26:22.209983Z",
     "start_time": "2020-11-12T13:26:21.360470Z"
    },
    "hidden": true,
    "id": "rJCuez0nMF4r",
    "tags": []
   },
   "outputs": [],
   "source": [
    "import warnings\n",
    "warnings.filterwarnings(\"ignore\")\n",
    "import pandas as pd\n",
    "import numpy as np\n",
    "import matplotlib.pyplot as plt\n",
    "import seaborn as sns\n",
    "\n",
    "# please import as much as you need"
   ]
  },
  {
   "cell_type": "code",
   "execution_count": 21,
   "metadata": {
    "ExecuteTime": {
     "end_time": "2020-11-12T13:26:22.272830Z",
     "start_time": "2020-11-12T13:26:22.211908Z"
    },
    "hidden": true,
    "id": "eZz5M7_eMF4t",
    "outputId": "ece29f87-162f-4649-e658-70a6d20aee32",
    "tags": []
   },
   "outputs": [
    {
     "data": {
      "text/html": [
       "<div>\n",
       "<style scoped>\n",
       "    .dataframe tbody tr th:only-of-type {\n",
       "        vertical-align: middle;\n",
       "    }\n",
       "\n",
       "    .dataframe tbody tr th {\n",
       "        vertical-align: top;\n",
       "    }\n",
       "\n",
       "    .dataframe thead th {\n",
       "        text-align: right;\n",
       "    }\n",
       "</style>\n",
       "<table border=\"1\" class=\"dataframe\">\n",
       "  <thead>\n",
       "    <tr style=\"text-align: right;\">\n",
       "      <th></th>\n",
       "      <th>customerID</th>\n",
       "      <th>gender</th>\n",
       "      <th>SeniorCitizen</th>\n",
       "      <th>Partner</th>\n",
       "      <th>Dependents</th>\n",
       "      <th>tenure</th>\n",
       "      <th>PhoneService</th>\n",
       "      <th>MultipleLines</th>\n",
       "      <th>InternetService</th>\n",
       "      <th>OnlineSecurity</th>\n",
       "      <th>...</th>\n",
       "      <th>DeviceProtection</th>\n",
       "      <th>TechSupport</th>\n",
       "      <th>StreamingTV</th>\n",
       "      <th>StreamingMovies</th>\n",
       "      <th>Contract</th>\n",
       "      <th>PaperlessBilling</th>\n",
       "      <th>PaymentMethod</th>\n",
       "      <th>MonthlyCharges</th>\n",
       "      <th>TotalCharges</th>\n",
       "      <th>Churn</th>\n",
       "    </tr>\n",
       "  </thead>\n",
       "  <tbody>\n",
       "    <tr>\n",
       "      <th>0</th>\n",
       "      <td>7590-VHVEG</td>\n",
       "      <td>Female</td>\n",
       "      <td>0</td>\n",
       "      <td>Yes</td>\n",
       "      <td>No</td>\n",
       "      <td>1</td>\n",
       "      <td>No</td>\n",
       "      <td>No phone service</td>\n",
       "      <td>DSL</td>\n",
       "      <td>No</td>\n",
       "      <td>...</td>\n",
       "      <td>No</td>\n",
       "      <td>No</td>\n",
       "      <td>No</td>\n",
       "      <td>No</td>\n",
       "      <td>Month-to-month</td>\n",
       "      <td>Yes</td>\n",
       "      <td>Electronic check</td>\n",
       "      <td>29.85</td>\n",
       "      <td>29.85</td>\n",
       "      <td>No</td>\n",
       "    </tr>\n",
       "    <tr>\n",
       "      <th>1</th>\n",
       "      <td>5575-GNVDE</td>\n",
       "      <td>Male</td>\n",
       "      <td>0</td>\n",
       "      <td>No</td>\n",
       "      <td>No</td>\n",
       "      <td>34</td>\n",
       "      <td>Yes</td>\n",
       "      <td>No</td>\n",
       "      <td>DSL</td>\n",
       "      <td>Yes</td>\n",
       "      <td>...</td>\n",
       "      <td>Yes</td>\n",
       "      <td>No</td>\n",
       "      <td>No</td>\n",
       "      <td>No</td>\n",
       "      <td>One year</td>\n",
       "      <td>No</td>\n",
       "      <td>Mailed check</td>\n",
       "      <td>56.95</td>\n",
       "      <td>1889.5</td>\n",
       "      <td>No</td>\n",
       "    </tr>\n",
       "    <tr>\n",
       "      <th>2</th>\n",
       "      <td>3668-QPYBK</td>\n",
       "      <td>Male</td>\n",
       "      <td>0</td>\n",
       "      <td>No</td>\n",
       "      <td>No</td>\n",
       "      <td>2</td>\n",
       "      <td>Yes</td>\n",
       "      <td>No</td>\n",
       "      <td>DSL</td>\n",
       "      <td>Yes</td>\n",
       "      <td>...</td>\n",
       "      <td>No</td>\n",
       "      <td>No</td>\n",
       "      <td>No</td>\n",
       "      <td>No</td>\n",
       "      <td>Month-to-month</td>\n",
       "      <td>Yes</td>\n",
       "      <td>Mailed check</td>\n",
       "      <td>53.85</td>\n",
       "      <td>108.15</td>\n",
       "      <td>Yes</td>\n",
       "    </tr>\n",
       "    <tr>\n",
       "      <th>3</th>\n",
       "      <td>7795-CFOCW</td>\n",
       "      <td>Male</td>\n",
       "      <td>0</td>\n",
       "      <td>No</td>\n",
       "      <td>No</td>\n",
       "      <td>45</td>\n",
       "      <td>No</td>\n",
       "      <td>No phone service</td>\n",
       "      <td>DSL</td>\n",
       "      <td>Yes</td>\n",
       "      <td>...</td>\n",
       "      <td>Yes</td>\n",
       "      <td>Yes</td>\n",
       "      <td>No</td>\n",
       "      <td>No</td>\n",
       "      <td>One year</td>\n",
       "      <td>No</td>\n",
       "      <td>Bank transfer (automatic)</td>\n",
       "      <td>42.30</td>\n",
       "      <td>1840.75</td>\n",
       "      <td>No</td>\n",
       "    </tr>\n",
       "    <tr>\n",
       "      <th>4</th>\n",
       "      <td>9237-HQITU</td>\n",
       "      <td>Female</td>\n",
       "      <td>0</td>\n",
       "      <td>No</td>\n",
       "      <td>No</td>\n",
       "      <td>2</td>\n",
       "      <td>Yes</td>\n",
       "      <td>No</td>\n",
       "      <td>Fiber optic</td>\n",
       "      <td>No</td>\n",
       "      <td>...</td>\n",
       "      <td>No</td>\n",
       "      <td>No</td>\n",
       "      <td>No</td>\n",
       "      <td>No</td>\n",
       "      <td>Month-to-month</td>\n",
       "      <td>Yes</td>\n",
       "      <td>Electronic check</td>\n",
       "      <td>70.70</td>\n",
       "      <td>151.65</td>\n",
       "      <td>Yes</td>\n",
       "    </tr>\n",
       "  </tbody>\n",
       "</table>\n",
       "<p>5 rows × 21 columns</p>\n",
       "</div>"
      ],
      "text/plain": [
       "   customerID  gender  SeniorCitizen Partner Dependents  tenure PhoneService  \\\n",
       "0  7590-VHVEG  Female              0     Yes         No       1           No   \n",
       "1  5575-GNVDE    Male              0      No         No      34          Yes   \n",
       "2  3668-QPYBK    Male              0      No         No       2          Yes   \n",
       "3  7795-CFOCW    Male              0      No         No      45           No   \n",
       "4  9237-HQITU  Female              0      No         No       2          Yes   \n",
       "\n",
       "      MultipleLines InternetService OnlineSecurity  ... DeviceProtection  \\\n",
       "0  No phone service             DSL             No  ...               No   \n",
       "1                No             DSL            Yes  ...              Yes   \n",
       "2                No             DSL            Yes  ...               No   \n",
       "3  No phone service             DSL            Yes  ...              Yes   \n",
       "4                No     Fiber optic             No  ...               No   \n",
       "\n",
       "  TechSupport StreamingTV StreamingMovies        Contract PaperlessBilling  \\\n",
       "0          No          No              No  Month-to-month              Yes   \n",
       "1          No          No              No        One year               No   \n",
       "2          No          No              No  Month-to-month              Yes   \n",
       "3         Yes          No              No        One year               No   \n",
       "4          No          No              No  Month-to-month              Yes   \n",
       "\n",
       "               PaymentMethod MonthlyCharges  TotalCharges Churn  \n",
       "0           Electronic check          29.85         29.85    No  \n",
       "1               Mailed check          56.95        1889.5    No  \n",
       "2               Mailed check          53.85        108.15   Yes  \n",
       "3  Bank transfer (automatic)          42.30       1840.75    No  \n",
       "4           Electronic check          70.70        151.65   Yes  \n",
       "\n",
       "[5 rows x 21 columns]"
      ]
     },
     "execution_count": 21,
     "metadata": {},
     "output_type": "execute_result"
    }
   ],
   "source": [
    "# read your data\n",
    "\n",
    "df = pd.read_csv('WA_Fn-UseC_-Telco-Customer-Churn.csv')\n",
    "df.head()"
   ]
  },
  {
   "cell_type": "markdown",
   "metadata": {
    "id": "T8je8utZMF4u"
   },
   "source": [
    "# Normal"
   ]
  },
  {
   "cell_type": "markdown",
   "metadata": {
    "heading_collapsed": true,
    "id": "6VcnhoeoMF4u"
   },
   "source": [
    "## Dalam rata-rata, payment method mana yang memiliki monthly charge terbesar per customernya?\n",
    "\n",
    "Hint: Gunakan groupby payment method terhadap monthly charge dengan aggregate function rata-rata"
   ]
  },
  {
   "cell_type": "code",
   "execution_count": 22,
   "metadata": {
    "ExecuteTime": {
     "end_time": "2021-10-23T10:20:16.843127Z",
     "start_time": "2021-10-23T10:20:16.835236Z"
    },
    "hidden": true,
    "id": "p389Jwg3MF4v",
    "scrolled": true
   },
   "outputs": [
    {
     "data": {
      "text/html": [
       "<div>\n",
       "<style scoped>\n",
       "    .dataframe tbody tr th:only-of-type {\n",
       "        vertical-align: middle;\n",
       "    }\n",
       "\n",
       "    .dataframe tbody tr th {\n",
       "        vertical-align: top;\n",
       "    }\n",
       "\n",
       "    .dataframe thead th {\n",
       "        text-align: right;\n",
       "    }\n",
       "</style>\n",
       "<table border=\"1\" class=\"dataframe\">\n",
       "  <thead>\n",
       "    <tr style=\"text-align: right;\">\n",
       "      <th></th>\n",
       "      <th>PaymentMethod</th>\n",
       "      <th>MonthlyCharges</th>\n",
       "    </tr>\n",
       "  </thead>\n",
       "  <tbody>\n",
       "    <tr>\n",
       "      <th>0</th>\n",
       "      <td>Bank transfer (automatic)</td>\n",
       "      <td>67.192649</td>\n",
       "    </tr>\n",
       "    <tr>\n",
       "      <th>1</th>\n",
       "      <td>Credit card (automatic)</td>\n",
       "      <td>66.512385</td>\n",
       "    </tr>\n",
       "    <tr>\n",
       "      <th>2</th>\n",
       "      <td>Electronic check</td>\n",
       "      <td>76.255814</td>\n",
       "    </tr>\n",
       "    <tr>\n",
       "      <th>3</th>\n",
       "      <td>Mailed check</td>\n",
       "      <td>43.917060</td>\n",
       "    </tr>\n",
       "  </tbody>\n",
       "</table>\n",
       "</div>"
      ],
      "text/plain": [
       "               PaymentMethod  MonthlyCharges\n",
       "0  Bank transfer (automatic)       67.192649\n",
       "1    Credit card (automatic)       66.512385\n",
       "2           Electronic check       76.255814\n",
       "3               Mailed check       43.917060"
      ]
     },
     "execution_count": 22,
     "metadata": {},
     "output_type": "execute_result"
    }
   ],
   "source": [
    "# your code goes here!\n",
    "df1 = df.groupby('PaymentMethod').agg({'MonthlyCharges': 'mean'}).reset_index()\n",
    "df1"
   ]
  },
  {
   "cell_type": "code",
   "execution_count": 23,
   "metadata": {
    "tags": []
   },
   "outputs": [
    {
     "data": {
      "image/png": "[encoded data removed]",
      "text/plain": [
       "<Figure size 1000x300 with 1 Axes>"
      ]
     },
     "metadata": {},
     "output_type": "display_data"
    }
   ],
   "source": [
    "plt.figure(figsize= (10,3))\n",
    "sns.barplot(x='PaymentMethod', y='MonthlyCharges', data = df1)\n",
    "plt.show()"
   ]
  },
  {
   "cell_type": "markdown",
   "metadata": {
    "hidden": true,
    "id": "FpPlps5GMF4w"
   },
   "source": [
    "Jadi, dari plot di atas, dapat disimpulkan bahwa:\n",
    "\n",
    "- Monthly charge terbesar per customer adalah payment method \"Electronic Check\"\n",
    "- Monthly charge terkecil per customer adalah payment method \"Mailed Check\""
   ]
  },
  {
   "cell_type": "markdown",
   "metadata": {
    "hidden": true,
    "id": "vacUlU2jMF4w"
   },
   "source": [
    "$\\textbf{Jangan lupa kasih kesimpulan dari visualisasi yang kalian buat! Isi seperti diatas ya}$"
   ]
  },
  {
   "cell_type": "markdown",
   "metadata": {
    "hidden": true,
    "id": "wuWDwRt1MF4x"
   },
   "source": [
    "\n"
   ]
  },
  {
   "cell_type": "markdown",
   "metadata": {
    "id": "Gofl8-UHMF4x"
   },
   "source": [
    "## Bagaimana jumlah customer dilihat dari tenure group?\n",
    "\n",
    "Tenure group:\n",
    "- low_tenure: User dengan tenure < 21 bulan\n",
    "- medium_tenure: User dengan tenure 21 - 40 bulan\n",
    "- high_tenure: User dengan tenure > 40 bulan\n",
    "\n",
    "Hint:\n",
    "- Memotong data integer menjadi group categorical dapat menggunakan beberapa macam cara, contohnya dengan numpy.where atau pandas.cut\n",
    "- Mirip dengan plot pertama, namun ini menghitung jumlah unique users"
   ]
  },
  {
   "cell_type": "code",
   "execution_count": 24,
   "metadata": {
    "ExecuteTime": {
     "end_time": "2021-10-23T10:20:40.890513Z",
     "start_time": "2021-10-23T10:20:40.882963Z"
    },
    "id": "QjAKqdNeMF4y"
   },
   "outputs": [
    {
     "data": {
      "text/html": [
       "<div>\n",
       "<style scoped>\n",
       "    .dataframe tbody tr th:only-of-type {\n",
       "        vertical-align: middle;\n",
       "    }\n",
       "\n",
       "    .dataframe tbody tr th {\n",
       "        vertical-align: top;\n",
       "    }\n",
       "\n",
       "    .dataframe thead th {\n",
       "        text-align: right;\n",
       "    }\n",
       "</style>\n",
       "<table border=\"1\" class=\"dataframe\">\n",
       "  <thead>\n",
       "    <tr style=\"text-align: right;\">\n",
       "      <th></th>\n",
       "      <th>tenure_group</th>\n",
       "      <th>customerID</th>\n",
       "    </tr>\n",
       "  </thead>\n",
       "  <tbody>\n",
       "    <tr>\n",
       "      <th>0</th>\n",
       "      <td>high_tenure</td>\n",
       "      <td>2757</td>\n",
       "    </tr>\n",
       "    <tr>\n",
       "      <th>1</th>\n",
       "      <td>low_tenure</td>\n",
       "      <td>2878</td>\n",
       "    </tr>\n",
       "    <tr>\n",
       "      <th>2</th>\n",
       "      <td>medium_tenure</td>\n",
       "      <td>1408</td>\n",
       "    </tr>\n",
       "  </tbody>\n",
       "</table>\n",
       "</div>"
      ],
      "text/plain": [
       "    tenure_group  customerID\n",
       "0    high_tenure        2757\n",
       "1     low_tenure        2878\n",
       "2  medium_tenure        1408"
      ]
     },
     "execution_count": 24,
     "metadata": {},
     "output_type": "execute_result"
    }
   ],
   "source": [
    "# your code goes here!\n",
    "df['tenure_group'] = df['tenure'].apply(lambda x: 'low_tenure' if x<21 else 'high_tenure' if x >40 else 'medium_tenure')\n",
    "df2 = df.groupby('tenure_group').agg({'customerID':'count'}).reset_index()\n",
    "df2"
   ]
  },
  {
   "cell_type": "code",
   "execution_count": 25,
   "metadata": {
    "tags": []
   },
   "outputs": [
    {
     "data": {
      "image/png": "[encoded data removed]",
      "text/plain": [
       "<Figure size 500x300 with 1 Axes>"
      ]
     },
     "metadata": {},
     "output_type": "display_data"
    }
   ],
   "source": [
    "plt.figure(figsize = (5,3))\n",
    "sns.barplot(x='tenure_group', y='customerID', data=df2)\n",
    "plt.ylabel('Number of Customer')\n",
    "plt.show()"
   ]
  },
  {
   "cell_type": "markdown",
   "metadata": {
    "id": "Elw8EOo7MF4y"
   },
   "source": [
    "Jadi, dari plot di atas, kami menyimpulkan bahwa:\n",
    "\n",
    "- Grup low_tenure memiliki jumlah customer terbanyak\n",
    "- Grup medium_tenure memiliki jumlah customer tersedikit"
   ]
  },
  {
   "cell_type": "markdown",
   "metadata": {
    "id": "vv7EuRAEMF4y"
   },
   "source": [
    "$\\textbf{Jangan lupa kasih kesimpulan dari visualisasi yang kalian buat! Isi seperti diatas ya}$"
   ]
  },
  {
   "cell_type": "markdown",
   "metadata": {
    "id": "b5hviBMtMF4z"
   },
   "source": [
    "## Apakah kebanyakan dari Senior Citizen berlangganan PhoneService?"
   ]
  },
  {
   "cell_type": "markdown",
   "metadata": {
    "id": "VhPI6OhLMF4z"
   },
   "source": [
    "Hint:\n",
    "- Dapat menggunakan feature/input parameter hue pada seaborn\n",
    "- Dalam menghitung jumlah unique customer, jangan lupa perhatikan angka rasio, tidak hanya angka absolutnya\n",
    "\n"
   ]
  },
  {
   "cell_type": "code",
   "execution_count": 26,
   "metadata": {
    "ExecuteTime": {
     "end_time": "2021-10-23T10:20:47.306584Z",
     "start_time": "2021-10-23T10:20:47.299827Z"
    },
    "id": "ZN5YYoZzMF4z",
    "scrolled": true
   },
   "outputs": [
    {
     "data": {
      "text/html": [
       "<div>\n",
       "<style scoped>\n",
       "    .dataframe tbody tr th:only-of-type {\n",
       "        vertical-align: middle;\n",
       "    }\n",
       "\n",
       "    .dataframe tbody tr th {\n",
       "        vertical-align: top;\n",
       "    }\n",
       "\n",
       "    .dataframe thead th {\n",
       "        text-align: right;\n",
       "    }\n",
       "</style>\n",
       "<table border=\"1\" class=\"dataframe\">\n",
       "  <thead>\n",
       "    <tr style=\"text-align: right;\">\n",
       "      <th></th>\n",
       "      <th>SeniorCitizen</th>\n",
       "      <th>PhoneService</th>\n",
       "      <th>customerID</th>\n",
       "    </tr>\n",
       "  </thead>\n",
       "  <tbody>\n",
       "    <tr>\n",
       "      <th>0</th>\n",
       "      <td>0</td>\n",
       "      <td>No</td>\n",
       "      <td>578</td>\n",
       "    </tr>\n",
       "    <tr>\n",
       "      <th>1</th>\n",
       "      <td>0</td>\n",
       "      <td>Yes</td>\n",
       "      <td>5323</td>\n",
       "    </tr>\n",
       "    <tr>\n",
       "      <th>2</th>\n",
       "      <td>1</td>\n",
       "      <td>No</td>\n",
       "      <td>104</td>\n",
       "    </tr>\n",
       "    <tr>\n",
       "      <th>3</th>\n",
       "      <td>1</td>\n",
       "      <td>Yes</td>\n",
       "      <td>1038</td>\n",
       "    </tr>\n",
       "  </tbody>\n",
       "</table>\n",
       "</div>"
      ],
      "text/plain": [
       "   SeniorCitizen PhoneService  customerID\n",
       "0              0           No         578\n",
       "1              0          Yes        5323\n",
       "2              1           No         104\n",
       "3              1          Yes        1038"
      ]
     },
     "execution_count": 26,
     "metadata": {},
     "output_type": "execute_result"
    }
   ],
   "source": [
    "# your code goes here!\n",
    "df3 = df.groupby(['SeniorCitizen','PhoneService']).agg({'customerID':'count'}).reset_index()\n",
    "df3"
   ]
  },
  {
   "cell_type": "code",
   "execution_count": 27,
   "metadata": {
    "tags": []
   },
   "outputs": [
    {
     "data": {
      "image/png": "[encoded data removed]",
      "text/plain": [
       "<Figure size 500x300 with 1 Axes>"
      ]
     },
     "metadata": {},
     "output_type": "display_data"
    }
   ],
   "source": [
    "plt.figure(figsize = (5,3))\n",
    "sns.barplot(x='SeniorCitizen', y='customerID', data=df3, hue = 'PhoneService')\n",
    "plt.show()"
   ]
  },
  {
   "cell_type": "markdown",
   "metadata": {
    "id": "Bp-09W4GMF40"
   },
   "source": [
    "Analisis menggunakan jumlah absolut kurang valid karena perbedaan jumlah senior citizen dan non senior citizen sangat jauh. Lebih valid apabila menggunakan rasio atau persentase"
   ]
  },
  {
   "cell_type": "code",
   "execution_count": 28,
   "metadata": {
    "tags": []
   },
   "outputs": [
    {
     "data": {
      "text/html": [
       "<div>\n",
       "<style scoped>\n",
       "    .dataframe tbody tr th:only-of-type {\n",
       "        vertical-align: middle;\n",
       "    }\n",
       "\n",
       "    .dataframe tbody tr th {\n",
       "        vertical-align: top;\n",
       "    }\n",
       "\n",
       "    .dataframe thead th {\n",
       "        text-align: right;\n",
       "    }\n",
       "</style>\n",
       "<table border=\"1\" class=\"dataframe\">\n",
       "  <thead>\n",
       "    <tr style=\"text-align: right;\">\n",
       "      <th></th>\n",
       "      <th>SeniorCitizen</th>\n",
       "      <th>PhoneService</th>\n",
       "      <th>customerID</th>\n",
       "      <th>Ratio</th>\n",
       "    </tr>\n",
       "  </thead>\n",
       "  <tbody>\n",
       "    <tr>\n",
       "      <th>0</th>\n",
       "      <td>0</td>\n",
       "      <td>No</td>\n",
       "      <td>578</td>\n",
       "      <td>9.79</td>\n",
       "    </tr>\n",
       "    <tr>\n",
       "      <th>1</th>\n",
       "      <td>0</td>\n",
       "      <td>Yes</td>\n",
       "      <td>5323</td>\n",
       "      <td>90.21</td>\n",
       "    </tr>\n",
       "    <tr>\n",
       "      <th>2</th>\n",
       "      <td>1</td>\n",
       "      <td>No</td>\n",
       "      <td>104</td>\n",
       "      <td>9.11</td>\n",
       "    </tr>\n",
       "    <tr>\n",
       "      <th>3</th>\n",
       "      <td>1</td>\n",
       "      <td>Yes</td>\n",
       "      <td>1038</td>\n",
       "      <td>90.89</td>\n",
       "    </tr>\n",
       "  </tbody>\n",
       "</table>\n",
       "</div>"
      ],
      "text/plain": [
       "   SeniorCitizen PhoneService  customerID  Ratio\n",
       "0              0           No         578   9.79\n",
       "1              0          Yes        5323  90.21\n",
       "2              1           No         104   9.11\n",
       "3              1          Yes        1038  90.89"
      ]
     },
     "execution_count": 28,
     "metadata": {},
     "output_type": "execute_result"
    }
   ],
   "source": [
    "#buat data ratio\n",
    "senior = 0\n",
    "nonsenior = 0\n",
    "ratiolist = []\n",
    "for index, kolom in df3.iterrows():\n",
    "    if kolom['SeniorCitizen'] == 1:\n",
    "        senior += kolom['customerID']\n",
    "    else:\n",
    "        nonsenior += kolom['customerID']\n",
    "\n",
    "for index, kolom in df3.iterrows():\n",
    "    if kolom['SeniorCitizen'] == 1:\n",
    "        ratio = round(kolom['customerID']/senior*100,2)\n",
    "    else:\n",
    "        ratio = round(kolom['customerID']/nonsenior*100,2)\n",
    "    \n",
    "    ratiolist.append(ratio)\n",
    "\n",
    "df3['Ratio'] = ratiolist\n",
    "df3"
   ]
  },
  {
   "cell_type": "code",
   "execution_count": 29,
   "metadata": {
    "tags": []
   },
   "outputs": [
    {
     "data": {
      "image/png": "[encoded data removed]",
      "text/plain": [
       "<Figure size 500x300 with 1 Axes>"
      ]
     },
     "metadata": {},
     "output_type": "display_data"
    }
   ],
   "source": [
    "#plot ratio\n",
    "plt.figure(figsize = (5,3))\n",
    "sns.barplot(x='SeniorCitizen', y='Ratio', data=df3, hue = 'PhoneService')\n",
    "plt.legend(loc='center left', bbox_to_anchor=(1, 0.5))\n",
    "plt.show()"
   ]
  },
  {
   "cell_type": "markdown",
   "metadata": {
    "id": "Bp-09W4GMF40"
   },
   "source": [
    "Jadi, dari plot di atas, dapat disimpulkan bahwa:\n",
    "- secara ratio, jumlah pengguna phone service relatif sama antara senior citizen dengan non senior citizen"
   ]
  },
  {
   "cell_type": "markdown",
   "metadata": {
    "id": "ANR7ZgLiMF40"
   },
   "source": [
    "$\\textbf{Jangan lupa kasih kesimpulan dari visualisasi yang kalian buat! Isi seperti diatas ya}$"
   ]
  },
  {
   "cell_type": "markdown",
   "metadata": {
    "id": "SilttVwvMF40"
   },
   "source": [
    "## Bagaimana Distribusi dari TotalCharge?"
   ]
  },
  {
   "cell_type": "markdown",
   "metadata": {
    "id": "l-l1sJMjMF40"
   },
   "source": [
    "Hint:\n",
    "- Ubah datatype TotalCharge dari object ke int atau float\n",
    "- Buat distribusi plot!"
   ]
  },
  {
   "cell_type": "code",
   "execution_count": 30,
   "metadata": {
    "ExecuteTime": {
     "end_time": "2021-10-23T10:20:52.903045Z",
     "start_time": "2021-10-23T10:20:52.894900Z"
    },
    "id": "l0DtIhgHMF41",
    "scrolled": true
   },
   "outputs": [
    {
     "name": "stdout",
     "output_type": "stream",
     "text": [
      "<class 'pandas.core.series.Series'>\n",
      "RangeIndex: 7043 entries, 0 to 7042\n",
      "Series name: TotalChargesFloat\n",
      "Non-Null Count  Dtype  \n",
      "--------------  -----  \n",
      "7043 non-null   float64\n",
      "dtypes: float64(1)\n",
      "memory usage: 55.2 KB\n"
     ]
    }
   ],
   "source": [
    "# your code goes here!\n",
    "# terdapat data ' ' di \"TotalCharges\", perlu diubah menjadi '0' agar bisa di ubah menjadi float dan simpan di column baru 'TotalChargesFloat'\n",
    "df['TotalChargesFloat'] = df['TotalCharges'].apply(lambda x: 0 if x == ' ' else x)\n",
    "\n",
    "# ubah tipe data 'TotalChargesFloat' menjadi float\n",
    "df['TotalChargesFloat'] = df['TotalChargesFloat'].astype(float)\n",
    "df['TotalChargesFloat'].info()"
   ]
  },
  {
   "cell_type": "code",
   "execution_count": 31,
   "metadata": {
    "tags": []
   },
   "outputs": [
    {
     "name": "stdout",
     "output_type": "stream",
     "text": [
      "count    7043.000000\n",
      "mean     2279.734304\n",
      "std      2266.794470\n",
      "min         0.000000\n",
      "25%       398.550000\n",
      "50%      1394.550000\n",
      "75%      3786.600000\n",
      "max      8684.800000\n",
      "Name: TotalChargesFloat, dtype: float64\n"
     ]
    },
    {
     "data": {
      "text/plain": [
       "0     0.0\n",
       "1    20.2\n",
       "Name: TotalChargesFloat, dtype: float64"
      ]
     },
     "execution_count": 31,
     "metadata": {},
     "output_type": "execute_result"
    }
   ],
   "source": [
    "print(df['TotalChargesFloat'].describe())\n",
    "df['TotalChargesFloat'].mode()"
   ]
  },
  {
   "cell_type": "code",
   "execution_count": 32,
   "metadata": {
    "tags": []
   },
   "outputs": [
    {
     "data": {
      "image/png": "[encoded data removed]",
      "text/plain": [
       "<Figure size 800x400 with 1 Axes>"
      ]
     },
     "metadata": {},
     "output_type": "display_data"
    }
   ],
   "source": [
    "plt.figure(figsize=(8,4))\n",
    "sns.histplot(x='TotalChargesFloat', data = df)\n",
    "plt.xlabel('Total Charges')\n",
    "plt.show()"
   ]
  },
  {
   "cell_type": "markdown",
   "metadata": {
    "id": "LEHImj5bMF41"
   },
   "source": [
    "Jadi, dari plot di atas, dapat disimpulkan bahwa:\n",
    "- Bentuk distribusi dari Total Charges adalah positively skewed (mean > median) dengan mean = 2279.7 dan median = 1394.6\n",
    "- Total charge paling banyak terdapat pada angka 0-20.2"
   ]
  },
  {
   "cell_type": "markdown",
   "metadata": {
    "id": "1k_31-KdMF41"
   },
   "source": [
    "$\\textbf{Jangan lupa kasih kesimpulan dari visualisasi yang kalian buat! Isi seperti diatas ya}$"
   ]
  },
  {
   "cell_type": "markdown",
   "metadata": {
    "id": "2Xd285QNMF41"
   },
   "source": [
    "# Intermediate"
   ]
  },
  {
   "cell_type": "markdown",
   "metadata": {
    "id": "kqnD9vmaMF41"
   },
   "source": [
    "## Apakah customer yang memiliki monthly charges yang tinggi cenderung churn?\n",
    "\n",
    "Hint: dapat ditunjukan melalui distribusi data"
   ]
  },
  {
   "cell_type": "code",
   "execution_count": 33,
   "metadata": {
    "ExecuteTime": {
     "end_time": "2021-10-23T10:20:59.988806Z",
     "start_time": "2021-10-23T10:20:59.980744Z"
    },
    "id": "Zce7Y4ZoMF42",
    "scrolled": true
   },
   "outputs": [
    {
     "data": {
      "image/png": "[encoded data removed]",
      "text/plain": [
       "<Figure size 800x300 with 1 Axes>"
      ]
     },
     "metadata": {},
     "output_type": "display_data"
    }
   ],
   "source": [
    "# your code goes here!\n",
    "plt.figure(figsize=(8,3))\n",
    "sns.histplot(x='MonthlyCharges', data = df, hue ='Churn', palette=['white', 'navy'])\n",
    "plt.show()"
   ]
  },
  {
   "cell_type": "markdown",
   "metadata": {
    "id": "4gSr4LWSMF42"
   },
   "source": [
    "Jadi, dari plot di atas, dapat disimpulkan bahwa:\n",
    "\n",
    "- Berdasarkan hasil plot distribusi monthly charges, terlihat bahwa churn rate cukup meningkat pada monthly charges yang tinggi (terutama pada monthly charges >70)"
   ]
  },
  {
   "cell_type": "markdown",
   "metadata": {
    "id": "P4nqbP0KMF42"
   },
   "source": [
    "$\\textbf{Jangan lupa kasih kesimpulan dari visualisasi yang kalian buat! Isi seperti diatas ya}$"
   ]
  },
  {
   "cell_type": "markdown",
   "metadata": {
    "id": "kBdadkv5MF42"
   },
   "source": [
    "## Bagaimana pengaruh memiliki partner & dependents terhadap tingkat churn customer?\n",
    "\n",
    "Hint: concat partner dan dependents, gunakan parameter 'hue' pada seaborn untuk mempermudah"
   ]
  },
  {
   "cell_type": "code",
   "execution_count": 34,
   "metadata": {
    "ExecuteTime": {
     "end_time": "2021-10-23T10:21:07.358611Z",
     "start_time": "2021-10-23T10:21:07.351561Z"
    },
    "id": "ABkGLu6XMF43",
    "scrolled": true
   },
   "outputs": [
    {
     "data": {
      "text/html": [
       "<div>\n",
       "<style scoped>\n",
       "    .dataframe tbody tr th:only-of-type {\n",
       "        vertical-align: middle;\n",
       "    }\n",
       "\n",
       "    .dataframe tbody tr th {\n",
       "        vertical-align: top;\n",
       "    }\n",
       "\n",
       "    .dataframe thead th {\n",
       "        text-align: right;\n",
       "    }\n",
       "</style>\n",
       "<table border=\"1\" class=\"dataframe\">\n",
       "  <thead>\n",
       "    <tr style=\"text-align: right;\">\n",
       "      <th></th>\n",
       "      <th>Partner</th>\n",
       "      <th>Dependents</th>\n",
       "      <th>Churn</th>\n",
       "      <th>customerID</th>\n",
       "      <th>Status</th>\n",
       "    </tr>\n",
       "  </thead>\n",
       "  <tbody>\n",
       "    <tr>\n",
       "      <th>0</th>\n",
       "      <td>No</td>\n",
       "      <td>No</td>\n",
       "      <td>No</td>\n",
       "      <td>2157</td>\n",
       "      <td>No partner &amp; dependents</td>\n",
       "    </tr>\n",
       "    <tr>\n",
       "      <th>1</th>\n",
       "      <td>No</td>\n",
       "      <td>No</td>\n",
       "      <td>Yes</td>\n",
       "      <td>1123</td>\n",
       "      <td>No partner &amp; dependents</td>\n",
       "    </tr>\n",
       "    <tr>\n",
       "      <th>2</th>\n",
       "      <td>No</td>\n",
       "      <td>Yes</td>\n",
       "      <td>No</td>\n",
       "      <td>284</td>\n",
       "      <td>No partner &amp; have dependents</td>\n",
       "    </tr>\n",
       "    <tr>\n",
       "      <th>3</th>\n",
       "      <td>No</td>\n",
       "      <td>Yes</td>\n",
       "      <td>Yes</td>\n",
       "      <td>77</td>\n",
       "      <td>No partner &amp; have dependents</td>\n",
       "    </tr>\n",
       "    <tr>\n",
       "      <th>4</th>\n",
       "      <td>Yes</td>\n",
       "      <td>No</td>\n",
       "      <td>No</td>\n",
       "      <td>1233</td>\n",
       "      <td>Have partner &amp; no dependents</td>\n",
       "    </tr>\n",
       "    <tr>\n",
       "      <th>5</th>\n",
       "      <td>Yes</td>\n",
       "      <td>No</td>\n",
       "      <td>Yes</td>\n",
       "      <td>420</td>\n",
       "      <td>Have partner &amp; no dependents</td>\n",
       "    </tr>\n",
       "    <tr>\n",
       "      <th>6</th>\n",
       "      <td>Yes</td>\n",
       "      <td>Yes</td>\n",
       "      <td>No</td>\n",
       "      <td>1500</td>\n",
       "      <td>Have partner &amp; dependents</td>\n",
       "    </tr>\n",
       "    <tr>\n",
       "      <th>7</th>\n",
       "      <td>Yes</td>\n",
       "      <td>Yes</td>\n",
       "      <td>Yes</td>\n",
       "      <td>249</td>\n",
       "      <td>Have partner &amp; dependents</td>\n",
       "    </tr>\n",
       "  </tbody>\n",
       "</table>\n",
       "</div>"
      ],
      "text/plain": [
       "  Partner Dependents Churn  customerID                        Status\n",
       "0      No         No    No        2157       No partner & dependents\n",
       "1      No         No   Yes        1123       No partner & dependents\n",
       "2      No        Yes    No         284  No partner & have dependents\n",
       "3      No        Yes   Yes          77  No partner & have dependents\n",
       "4     Yes         No    No        1233  Have partner & no dependents\n",
       "5     Yes         No   Yes         420  Have partner & no dependents\n",
       "6     Yes        Yes    No        1500     Have partner & dependents\n",
       "7     Yes        Yes   Yes         249     Have partner & dependents"
      ]
     },
     "execution_count": 34,
     "metadata": {},
     "output_type": "execute_result"
    }
   ],
   "source": [
    "# your code goes here!\n",
    "df6 = df.groupby(['Partner','Dependents','Churn']).agg({'customerID':'count'}).reset_index()\n",
    "statuslist = []\n",
    "for index, kolom in df6.iterrows():\n",
    "    if kolom['Partner'] == 'No' and kolom['Dependents'] == 'No':\n",
    "        status = 'No partner & dependents'\n",
    "    elif kolom['Partner'] == 'No' and kolom['Dependents'] == 'Yes':\n",
    "        status = 'No partner & have dependents'\n",
    "    elif kolom['Partner'] == 'Yes' and kolom['Dependents'] == 'No':\n",
    "        status = 'Have partner & no dependents'\n",
    "    else:\n",
    "        status = 'Have partner & dependents'\n",
    "        \n",
    "    statuslist.append(status)\n",
    "\n",
    "    \n",
    "df6['Status'] = statuslist\n",
    "df6"
   ]
  },
  {
   "cell_type": "code",
   "execution_count": 35,
   "metadata": {
    "tags": []
   },
   "outputs": [
    {
     "data": {
      "image/png": "[encoded data removed]",
      "text/plain": [
       "<Figure size 1500x300 with 1 Axes>"
      ]
     },
     "metadata": {},
     "output_type": "display_data"
    }
   ],
   "source": [
    "plt.figure(figsize = (15,3))\n",
    "sns.barplot(x='Status', y='customerID', data=df6, hue = 'Churn')\n",
    "plt.show()"
   ]
  },
  {
   "cell_type": "code",
   "execution_count": 36,
   "metadata": {
    "tags": []
   },
   "outputs": [
    {
     "data": {
      "text/html": [
       "<div>\n",
       "<style scoped>\n",
       "    .dataframe tbody tr th:only-of-type {\n",
       "        vertical-align: middle;\n",
       "    }\n",
       "\n",
       "    .dataframe tbody tr th {\n",
       "        vertical-align: top;\n",
       "    }\n",
       "\n",
       "    .dataframe thead th {\n",
       "        text-align: right;\n",
       "    }\n",
       "</style>\n",
       "<table border=\"1\" class=\"dataframe\">\n",
       "  <thead>\n",
       "    <tr style=\"text-align: right;\">\n",
       "      <th></th>\n",
       "      <th>Partner</th>\n",
       "      <th>Dependents</th>\n",
       "      <th>Churn</th>\n",
       "      <th>customerID</th>\n",
       "      <th>Status</th>\n",
       "      <th>Ratio</th>\n",
       "    </tr>\n",
       "  </thead>\n",
       "  <tbody>\n",
       "    <tr>\n",
       "      <th>0</th>\n",
       "      <td>No</td>\n",
       "      <td>No</td>\n",
       "      <td>No</td>\n",
       "      <td>2157</td>\n",
       "      <td>No partner &amp; dependents</td>\n",
       "      <td>65.76</td>\n",
       "    </tr>\n",
       "    <tr>\n",
       "      <th>1</th>\n",
       "      <td>No</td>\n",
       "      <td>No</td>\n",
       "      <td>Yes</td>\n",
       "      <td>1123</td>\n",
       "      <td>No partner &amp; dependents</td>\n",
       "      <td>34.24</td>\n",
       "    </tr>\n",
       "    <tr>\n",
       "      <th>2</th>\n",
       "      <td>No</td>\n",
       "      <td>Yes</td>\n",
       "      <td>No</td>\n",
       "      <td>284</td>\n",
       "      <td>No partner &amp; have dependents</td>\n",
       "      <td>78.67</td>\n",
       "    </tr>\n",
       "    <tr>\n",
       "      <th>3</th>\n",
       "      <td>No</td>\n",
       "      <td>Yes</td>\n",
       "      <td>Yes</td>\n",
       "      <td>77</td>\n",
       "      <td>No partner &amp; have dependents</td>\n",
       "      <td>21.33</td>\n",
       "    </tr>\n",
       "    <tr>\n",
       "      <th>4</th>\n",
       "      <td>Yes</td>\n",
       "      <td>No</td>\n",
       "      <td>No</td>\n",
       "      <td>1233</td>\n",
       "      <td>Have partner &amp; no dependents</td>\n",
       "      <td>74.59</td>\n",
       "    </tr>\n",
       "    <tr>\n",
       "      <th>5</th>\n",
       "      <td>Yes</td>\n",
       "      <td>No</td>\n",
       "      <td>Yes</td>\n",
       "      <td>420</td>\n",
       "      <td>Have partner &amp; no dependents</td>\n",
       "      <td>25.41</td>\n",
       "    </tr>\n",
       "    <tr>\n",
       "      <th>6</th>\n",
       "      <td>Yes</td>\n",
       "      <td>Yes</td>\n",
       "      <td>No</td>\n",
       "      <td>1500</td>\n",
       "      <td>Have partner &amp; dependents</td>\n",
       "      <td>85.76</td>\n",
       "    </tr>\n",
       "    <tr>\n",
       "      <th>7</th>\n",
       "      <td>Yes</td>\n",
       "      <td>Yes</td>\n",
       "      <td>Yes</td>\n",
       "      <td>249</td>\n",
       "      <td>Have partner &amp; dependents</td>\n",
       "      <td>14.24</td>\n",
       "    </tr>\n",
       "  </tbody>\n",
       "</table>\n",
       "</div>"
      ],
      "text/plain": [
       "  Partner Dependents Churn  customerID                        Status  Ratio\n",
       "0      No         No    No        2157       No partner & dependents  65.76\n",
       "1      No         No   Yes        1123       No partner & dependents  34.24\n",
       "2      No        Yes    No         284  No partner & have dependents  78.67\n",
       "3      No        Yes   Yes          77  No partner & have dependents  21.33\n",
       "4     Yes         No    No        1233  Have partner & no dependents  74.59\n",
       "5     Yes         No   Yes         420  Have partner & no dependents  25.41\n",
       "6     Yes        Yes    No        1500     Have partner & dependents  85.76\n",
       "7     Yes        Yes   Yes         249     Have partner & dependents  14.24"
      ]
     },
     "execution_count": 36,
     "metadata": {},
     "output_type": "execute_result"
    }
   ],
   "source": [
    "#buat data ratio\n",
    "npnd = 0\n",
    "npd = 0\n",
    "pnd = 0\n",
    "pd = 0\n",
    "ratiolist = []\n",
    "for index, kolom in df6.iterrows():\n",
    "    if kolom['Status'] == 'No partner & dependents':\n",
    "        npnd += kolom['customerID']\n",
    "    elif kolom['Status'] == 'No partner & have dependents':\n",
    "        npd += kolom['customerID']\n",
    "    elif kolom['Status'] == 'Have partner & no dependents':\n",
    "        pnd += kolom['customerID']\n",
    "    else:\n",
    "        pd += kolom['customerID']\n",
    "\n",
    "for index, kolom in df6.iterrows():\n",
    "    if kolom['Status'] == 'No partner & dependents':\n",
    "        ratio = round(kolom['customerID']/npnd*100,2)\n",
    "    elif kolom['Status'] == 'No partner & have dependents':\n",
    "        ratio = round(kolom['customerID']/npd*100,2)\n",
    "    elif kolom['Status'] == 'Have partner & no dependents':\n",
    "        ratio = round(kolom['customerID']/pnd*100,2)\n",
    "    else:\n",
    "        ratio = round(kolom['customerID']/pd*100,2)\n",
    "    \n",
    "    ratiolist.append(ratio)\n",
    "\n",
    "df6['Ratio'] = ratiolist\n",
    "df6"
   ]
  },
  {
   "cell_type": "code",
   "execution_count": 41,
   "metadata": {
    "tags": []
   },
   "outputs": [
    {
     "data": {
      "text/plain": [
       "<Figure size 800x400 with 0 Axes>"
      ]
     },
     "metadata": {},
     "output_type": "display_data"
    },
    {
     "data": {
      "image/png": "[encoded data removed]",
      "text/plain": [
       "<Figure size 640x480 with 1 Axes>"
      ]
     },
     "metadata": {},
     "output_type": "display_data"
    }
   ],
   "source": [
    "dfpivot = pd.pivot_table(df6[['Status','Churn','Ratio']],index = 'Status', columns = 'Churn', values = 'Ratio')\n",
    "\n",
    "plt.figure(figsize=(8,4))\n",
    "dfpivot.plot(kind = 'bar', stacked = True)\n",
    "plt.ylabel('Ratio')\n",
    "plt.legend(loc='center left', title='Churn', bbox_to_anchor=(1, 0.5))\n",
    "plt.show()"
   ]
  },
  {
   "cell_type": "markdown",
   "metadata": {
    "id": "iPfHjW_qMF43"
   },
   "source": [
    "Jadi, dari plot di atas, dapat disimpulkan bahwa\n",
    "- Status customer mempengaruhi churn rate\n",
    "- Churn rate terkecil pada customer yang memiliki partner dan dependents\n",
    "- Churn rate terbesar pada customer yang tidak memiliki partner dan dependents"
   ]
  },
  {
   "cell_type": "markdown",
   "metadata": {
    "id": "13eya3TGMF43"
   },
   "source": [
    "$\\textbf{Jangan lupa kasih kesimpulan dari visualisasi yang kalian buat! Isi seperti diatas ya}$"
   ]
  },
  {
   "cell_type": "markdown",
   "metadata": {
    "id": "V2enNx4MMF43"
   },
   "source": [
    "# Soal Hard"
   ]
  },
  {
   "cell_type": "markdown",
   "metadata": {
    "id": "Ck-r5pzMMF44"
   },
   "source": [
    "## Buatlah satu insight dari data telco customer, dan sertakan storyline pada visualisasi tersebut! dengan hanya memanfaatkan atribut PaymentMethod, CustomerID, dan Churn!"
   ]
  },
  {
   "cell_type": "code",
   "execution_count": 80,
   "metadata": {
    "id": "VDXQLnE2MF44"
   },
   "outputs": [],
   "source": [
    "# Buat kolom status\n",
    "df7 = df[['customerID','SeniorCitizen','Partner','Dependents','Contract','tenure','MonthlyCharges','PaymentMethod','Churn']]\n",
    "\n",
    "status_list = []\n",
    "for index, kolom in df7.iterrows():\n",
    "    if kolom['SeniorCitizen'] == 1 or kolom['Partner'] == 'Yes' or kolom['Dependents'] == 'Yes':\n",
    "        status = 'Married'\n",
    "    else:\n",
    "        status = 'Single'\n",
    "    \n",
    "    status_list.append(status)\n",
    "\n",
    "df7['Status'] = status_list"
   ]
  },
  {
   "cell_type": "code",
   "execution_count": 81,
   "metadata": {
    "tags": []
   },
   "outputs": [
    {
     "data": {
      "text/html": [
       "<div>\n",
       "<style scoped>\n",
       "    .dataframe tbody tr th:only-of-type {\n",
       "        vertical-align: middle;\n",
       "    }\n",
       "\n",
       "    .dataframe tbody tr th {\n",
       "        vertical-align: top;\n",
       "    }\n",
       "\n",
       "    .dataframe thead th {\n",
       "        text-align: right;\n",
       "    }\n",
       "</style>\n",
       "<table border=\"1\" class=\"dataframe\">\n",
       "  <thead>\n",
       "    <tr style=\"text-align: right;\">\n",
       "      <th></th>\n",
       "      <th>customerID</th>\n",
       "      <th>SeniorCitizen</th>\n",
       "      <th>Partner</th>\n",
       "      <th>Dependents</th>\n",
       "      <th>Contract</th>\n",
       "      <th>tenure</th>\n",
       "      <th>MonthlyCharges</th>\n",
       "      <th>PaymentMethod</th>\n",
       "      <th>Churn</th>\n",
       "      <th>Status</th>\n",
       "      <th>tenure_group</th>\n",
       "    </tr>\n",
       "  </thead>\n",
       "  <tbody>\n",
       "    <tr>\n",
       "      <th>0</th>\n",
       "      <td>7590-VHVEG</td>\n",
       "      <td>0</td>\n",
       "      <td>Yes</td>\n",
       "      <td>No</td>\n",
       "      <td>Month-to-month</td>\n",
       "      <td>1</td>\n",
       "      <td>29.85</td>\n",
       "      <td>Electronic check</td>\n",
       "      <td>No</td>\n",
       "      <td>Married</td>\n",
       "      <td>low_tenure</td>\n",
       "    </tr>\n",
       "    <tr>\n",
       "      <th>1</th>\n",
       "      <td>5575-GNVDE</td>\n",
       "      <td>0</td>\n",
       "      <td>No</td>\n",
       "      <td>No</td>\n",
       "      <td>One year</td>\n",
       "      <td>34</td>\n",
       "      <td>56.95</td>\n",
       "      <td>Mailed check</td>\n",
       "      <td>No</td>\n",
       "      <td>Single</td>\n",
       "      <td>medium_tenure</td>\n",
       "    </tr>\n",
       "    <tr>\n",
       "      <th>2</th>\n",
       "      <td>3668-QPYBK</td>\n",
       "      <td>0</td>\n",
       "      <td>No</td>\n",
       "      <td>No</td>\n",
       "      <td>Month-to-month</td>\n",
       "      <td>2</td>\n",
       "      <td>53.85</td>\n",
       "      <td>Mailed check</td>\n",
       "      <td>Yes</td>\n",
       "      <td>Single</td>\n",
       "      <td>low_tenure</td>\n",
       "    </tr>\n",
       "    <tr>\n",
       "      <th>3</th>\n",
       "      <td>7795-CFOCW</td>\n",
       "      <td>0</td>\n",
       "      <td>No</td>\n",
       "      <td>No</td>\n",
       "      <td>One year</td>\n",
       "      <td>45</td>\n",
       "      <td>42.30</td>\n",
       "      <td>Bank transfer (automatic)</td>\n",
       "      <td>No</td>\n",
       "      <td>Single</td>\n",
       "      <td>high_tenure</td>\n",
       "    </tr>\n",
       "    <tr>\n",
       "      <th>4</th>\n",
       "      <td>9237-HQITU</td>\n",
       "      <td>0</td>\n",
       "      <td>No</td>\n",
       "      <td>No</td>\n",
       "      <td>Month-to-month</td>\n",
       "      <td>2</td>\n",
       "      <td>70.70</td>\n",
       "      <td>Electronic check</td>\n",
       "      <td>Yes</td>\n",
       "      <td>Single</td>\n",
       "      <td>low_tenure</td>\n",
       "    </tr>\n",
       "  </tbody>\n",
       "</table>\n",
       "</div>"
      ],
      "text/plain": [
       "   customerID  SeniorCitizen Partner Dependents        Contract  tenure  \\\n",
       "0  7590-VHVEG              0     Yes         No  Month-to-month       1   \n",
       "1  5575-GNVDE              0      No         No        One year      34   \n",
       "2  3668-QPYBK              0      No         No  Month-to-month       2   \n",
       "3  7795-CFOCW              0      No         No        One year      45   \n",
       "4  9237-HQITU              0      No         No  Month-to-month       2   \n",
       "\n",
       "   MonthlyCharges              PaymentMethod Churn   Status   tenure_group  \n",
       "0           29.85           Electronic check    No  Married     low_tenure  \n",
       "1           56.95               Mailed check    No   Single  medium_tenure  \n",
       "2           53.85               Mailed check   Yes   Single     low_tenure  \n",
       "3           42.30  Bank transfer (automatic)    No   Single    high_tenure  \n",
       "4           70.70           Electronic check   Yes   Single     low_tenure  "
      ]
     },
     "execution_count": 81,
     "metadata": {},
     "output_type": "execute_result"
    }
   ],
   "source": [
    "# Buat kolom tenure_group\n",
    "df7['tenure_group'] = df7['tenure'].apply(lambda x: 'low_tenure' if x<21 else 'high_tenure' if x >40 else 'medium_tenure')\n",
    "df7.head()"
   ]
  },
  {
   "cell_type": "markdown",
   "metadata": {},
   "source": [
    "### 7.1 Melihat churn rate pada masing-masing tenure group (bar plot rasio)"
   ]
  },
  {
   "cell_type": "code",
   "execution_count": 82,
   "metadata": {},
   "outputs": [
    {
     "data": {
      "text/plain": [
       "<Figure size 800x400 with 0 Axes>"
      ]
     },
     "metadata": {},
     "output_type": "display_data"
    },
    {
     "data": {
      "image/png": "[encoded data removed]",
      "text/plain": [
       "<Figure size 640x480 with 1 Axes>"
      ]
     },
     "metadata": {},
     "output_type": "display_data"
    }
   ],
   "source": [
    "df_tenure = df7.groupby(['tenure_group','Churn']).agg({'customerID':'count'}).reset_index()\n",
    "df_tenure_total = df7.groupby(['tenure_group']).agg({'customerID':'count'}).reset_index().rename(columns={'customerID': 'Total'})\n",
    "df_tenure_all = df_tenure.merge(df_tenure_total, on = 'tenure_group')\n",
    "df_tenure_all['Ratio'] = round(df_tenure_all['customerID']/df_tenure_all['Total']*100,2)\n",
    "\n",
    "dfpivot = pd.pivot_table(df_tenure_all[['tenure_group','Churn','Ratio']],index = 'tenure_group', columns = 'Churn', values = 'Ratio')\n",
    "\n",
    "plt.figure(figsize=(8,4))\n",
    "dfpivot.plot(kind = 'bar', stacked = True)\n",
    "plt.ylabel('Ratio')\n",
    "plt.legend(loc='center left', title='Churn', bbox_to_anchor=(1, 0.5))\n",
    "plt.show()"
   ]
  },
  {
   "cell_type": "markdown",
   "metadata": {},
   "source": [
    "##### Dari grafik di atas, dapat dilihat bahwa semakin tinggi tenure nya, churn rate cenderung semakin rendah.\n",
    "##### Kemungkinan ini disebabkan karena banyak orang yang ingin mencoba-coba saja pada masa-masa awal berlangganan dan merasa tidak puas dengan layanan Telco sehingga pindah ke layanan lain. \n",
    "##### Lalu untuk orang-orang yang merasa puas dengan layanan PT Telco, mereka kebanyakan sudah nyaman dengan layanan yang diberikan sehingga meneruskan langganan mereka lebih lama dan jarang yang churn"
   ]
  },
  {
   "cell_type": "markdown",
   "metadata": {},
   "source": [
    "### 7.2 Melihat pengaruh jenis contract terhadap churn rate (bar plot rasio)"
   ]
  },
  {
   "cell_type": "code",
   "execution_count": 83,
   "metadata": {
    "tags": []
   },
   "outputs": [
    {
     "data": {
      "text/plain": [
       "<Figure size 800x400 with 0 Axes>"
      ]
     },
     "metadata": {},
     "output_type": "display_data"
    },
    {
     "data": {
      "image/png": "[encoded data removed]",
      "text/plain": [
       "<Figure size 640x480 with 1 Axes>"
      ]
     },
     "metadata": {},
     "output_type": "display_data"
    }
   ],
   "source": [
    "df_contract = df7.groupby(['Contract','Churn']).agg({'customerID':'count'}).reset_index()\n",
    "df_contract_total = df7.groupby(['Contract']).agg({'customerID':'count'}).reset_index().rename(columns={'customerID': 'Total'})\n",
    "df_contract_all = df_contract.merge(df_contract_total, on = 'Contract')\n",
    "df_contract_all['Ratio'] = round(df_tenure_all['customerID']/df_tenure_all['Total']*100,2)\n",
    "\n",
    "dfpivot = pd.pivot_table(df_contract_all[['Contract','Churn','Ratio']],index = 'Contract', columns = 'Churn', values = 'Ratio')\n",
    "\n",
    "plt.figure(figsize=(8,4))\n",
    "dfpivot.plot(kind = 'bar', stacked = True)\n",
    "plt.ylabel('Ratio')\n",
    "plt.legend(loc='center left', title='Churn', bbox_to_anchor=(1, 0.5))\n",
    "plt.show()"
   ]
  },
  {
   "cell_type": "markdown",
   "metadata": {},
   "source": [
    "##### Dari grafik di atas, terlihat bahwa churn rate tertinggi ada pada contract 1 year dan terendah ada pada contract month to month"
   ]
  },
  {
   "cell_type": "markdown",
   "metadata": {},
   "source": [
    "### 7.3 Melihat pengaruh status terhadap churn rate (bar plot rasio)"
   ]
  },
  {
   "cell_type": "code",
   "execution_count": 84,
   "metadata": {
    "tags": []
   },
   "outputs": [
    {
     "data": {
      "text/plain": [
       "<Figure size 800x400 with 0 Axes>"
      ]
     },
     "metadata": {},
     "output_type": "display_data"
    },
    {
     "data": {
      "image/png": "[encoded data removed]",
      "text/plain": [
       "<Figure size 640x480 with 1 Axes>"
      ]
     },
     "metadata": {},
     "output_type": "display_data"
    }
   ],
   "source": [
    "df_status = df7.groupby(['Status','Churn']).agg({'customerID':'count'}).reset_index()\n",
    "df_status_total = df7.groupby(['Status']).agg({'customerID':'count'}).reset_index().rename(columns={'customerID': 'Total'})\n",
    "df_status_all = df_status.merge(df_status_total, on = 'Status')\n",
    "df_status_all['Ratio'] = round(df_status_all['customerID']/df_status_all['Total']*100,2)\n",
    "\n",
    "dfpivot = pd.pivot_table(df_status_all[['Status','Churn','Ratio']],index = 'Status', columns = 'Churn', values = 'Ratio')\n",
    "\n",
    "plt.figure(figsize=(8,4))\n",
    "dfpivot.plot(kind = 'bar', stacked = True)\n",
    "plt.ylabel('Ratio')\n",
    "plt.legend(loc='center left', title='Churn', bbox_to_anchor=(1, 0.5))\n",
    "plt.show()"
   ]
  },
  {
   "cell_type": "markdown",
   "metadata": {},
   "source": [
    "##### Dari grafik di atas, terlihat bahwa status single memiliki churn rate sedikit lebih besar dari married namun tidak signifikan.\n",
    "##### Hipotesis: single lebih flexible untuk berpindah-pindah provider layanan, sedangkan yang sudah married lebih banyak pertimbangan terutama karena kebutuhan keluarga (misalkan layanan TV PT Telco channel-channelnya lebih child friendly sehingga baik untuk anak walau harganya lebih mahal dibanding kompetitor)"
   ]
  },
  {
   "cell_type": "markdown",
   "metadata": {},
   "source": [
    "### 7.4 Melihat pengaruh monthly charges terhadap churn rate (histogram)"
   ]
  },
  {
   "cell_type": "code",
   "execution_count": 85,
   "metadata": {
    "tags": []
   },
   "outputs": [
    {
     "data": {
      "image/png": "[encoded data removed]",
      "text/plain": [
       "<Figure size 800x300 with 1 Axes>"
      ]
     },
     "metadata": {},
     "output_type": "display_data"
    }
   ],
   "source": [
    "plt.figure(figsize=(8,3))\n",
    "sns.histplot(x='MonthlyCharges', data = df7, hue ='Status', palette=['white', 'navy'])\n",
    "plt.show()"
   ]
  },
  {
   "cell_type": "markdown",
   "metadata": {},
   "source": [
    "##### Dari histogram di atas, orang yang sudah married cenderung lebih mahal monthly charges nya. \n",
    "##### Hal ini bisa disebabkan karena kebutuhan layanan untuk yang married lebih banyak dibandingkan single sehingga biaya layanan per bulan lebih tinggi"
   ]
  },
  {
   "cell_type": "code",
   "execution_count": 86,
   "metadata": {
    "tags": []
   },
   "outputs": [
    {
     "data": {
      "image/png": "[encoded data removed]",
      "text/plain": [
       "<Figure size 800x300 with 1 Axes>"
      ]
     },
     "metadata": {},
     "output_type": "display_data"
    }
   ],
   "source": [
    "plt.figure(figsize=(8,3))\n",
    "sns.histplot(x='MonthlyCharges', data = df7, hue ='Churn', palette=['white', 'navy'])\n",
    "plt.show()"
   ]
  },
  {
   "cell_type": "markdown",
   "metadata": {},
   "source": [
    "##### Berdasarkan hasil plot distribusi monthly charges, terlihat bahwa churn rate mulai meningkat pada monthly charges yang tinggi (terutama pada monthly charges > $70)"
   ]
  },
  {
   "cell_type": "markdown",
   "metadata": {},
   "source": [
    "### 7.5 Melihat hubungan payment method dengan churn rate (bar plot rasio)"
   ]
  },
  {
   "cell_type": "code",
   "execution_count": 88,
   "metadata": {
    "tags": []
   },
   "outputs": [
    {
     "data": {
      "text/plain": [
       "<Figure size 800x400 with 0 Axes>"
      ]
     },
     "metadata": {},
     "output_type": "display_data"
    },
    {
     "data": {
      "image/png": "[encoded data removed]",
      "text/plain": [
       "<Figure size 640x480 with 1 Axes>"
      ]
     },
     "metadata": {},
     "output_type": "display_data"
    }
   ],
   "source": [
    "df_payment = df7.groupby(['PaymentMethod','Churn']).agg({'customerID':'count'}).reset_index()\n",
    "df_payment_total = df7.groupby(['PaymentMethod']).agg({'customerID':'count'}).reset_index().rename(columns={'customerID': 'Total'})\n",
    "df_payment_all = df_payment.merge(df_payment_total, on = 'PaymentMethod')\n",
    "df_payment_all['Ratio'] = round(df_payment_all['customerID']/df_payment_all['Total']*100,2)\n",
    "\n",
    "dfpivot = pd.pivot_table(df_payment_all[['PaymentMethod','Churn','Ratio']],index = 'PaymentMethod', columns = 'Churn', values = 'Ratio')\n",
    "\n",
    "plt.figure(figsize=(8,4))\n",
    "dfpivot.plot(kind = 'bar', stacked = True)\n",
    "plt.ylabel('Ratio')\n",
    "plt.legend(loc='center left', title='Churn', bbox_to_anchor=(1, 0.5))\n",
    "plt.show()"
   ]
  },
  {
   "cell_type": "code",
   "execution_count": 89,
   "metadata": {
    "tags": []
   },
   "outputs": [
    {
     "data": {
      "image/png": "[encoded data removed]",
      "text/plain": [
       "<Figure size 1000x300 with 1 Axes>"
      ]
     },
     "metadata": {},
     "output_type": "display_data"
    }
   ],
   "source": [
    "df1 = df.groupby('PaymentMethod').agg({'MonthlyCharges': 'mean'}).reset_index()\n",
    "plt.figure(figsize= (10,3))\n",
    "sns.barplot(x='PaymentMethod', y='MonthlyCharges', data = df1)\n",
    "plt.show()"
   ]
  },
  {
   "cell_type": "markdown",
   "metadata": {},
   "source": [
    "##### Dari 2 grafik di atas, terlihat bahwa churn rate & rata-rata monthly charge tertinggi ada pada customer yang membayar menggunakan Electronic Check (e-check)\n",
    "##### Churn rate tertinggi pada e-check dikarenakan monthly charges yang dibayarkan juga tertinggi. Hal ini in line dengan histogram pada poin 7.4 dimana churn rate mulai meningkat pada monthly charge >$70\n",
    "##### Selain itu berdasarkan highradius.com, salah satu kendala terbesar dari pembayaran e-check adalah delay dan error. Hal ini bisa menjadi salah satu alasan yang membuat customer churn."
   ]
  },
  {
   "cell_type": "markdown",
   "metadata": {},
   "source": [
    "### Kesimpulan Insight\n",
    "\n",
    "#### - Semakin lama customer berlangganan, semakin kecil pula churn ratenya. Customer yang baru berlangganan (<21 bulan) punya kecenderungan paling besar untuk churn karena masih mencoba-coba dan membanding-bandingkan dengan provider lain. Pada periode ini ada baiknya memberikan promo-promo menarik agar dapat menahan customer (tidak churn).\n",
    "#### - Orang yang sudah married membutuhkan jenis layanan yang lebih banyak dan lebih banyak pertimbangan untuk pindah provider dibandingkan dengan single sehingga biaya per bulannya lebih mahal dan juga churn rate nya lebih rendah\n",
    "#### - Churn rate cenderung meningkat apabila monthly charges >$70\n",
    "#### - Churn rate cukup tinggi untuk customer yang membayar menggunakan e-check karena monthly charge yang dibayarkan juga memiliki rata-rata tertinggi. Selain itu mungkin sistem pembayaran e-check bisa ditinjau kembali apakah sering terjadi delay/error atau tidak agar bisa meningkatkan kenyamanan pelanggan"
   ]
  },
  {
   "cell_type": "code",
   "execution_count": null,
   "metadata": {},
   "outputs": [],
   "source": []
  }
 ],
 "metadata": {
  "colab": {
   "provenance": []
  },
  "kernelspec": {
   "display_name": "Python 3 (ipykernel)",
   "language": "python",
   "name": "python3"
  },
  "language_info": {
   "codemirror_mode": {
    "name": "ipython",
    "version": 3
   },
   "file_extension": ".py",
   "mimetype": "text/x-python",
   "name": "python",
   "nbconvert_exporter": "python",
   "pygments_lexer": "ipython3",
   "version": "3.11.5"
  },
  "toc": {
   "base_numbering": 1,
   "nav_menu": {},
   "number_sections": true,
   "sideBar": true,
   "skip_h1_title": false,
   "title_cell": "Table of Contents",
   "title_sidebar": "Contents",
   "toc_cell": false,
   "toc_position": {},
   "toc_section_display": true,
   "toc_window_display": true
  }
 },
 "nbformat": 4,
 "nbformat_minor": 4
}
